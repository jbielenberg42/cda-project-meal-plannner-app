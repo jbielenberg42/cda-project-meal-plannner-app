{
  "cells": [
    {
      "cell_type": "raw",
      "metadata": {},
      "source": [
        "---\n",
        "title: An Algorithm For Mealplanning; Maximizing Variety & Minimizing Effort\n",
        "author: Josh Bielenberg (Group 134)\n",
        "subtitle: ISYE 6740 - Project Report\n",
        "date: 2024-12-08\n",
        "format:\n",
        "  pdf:\n",
        "    include-in-header:\n",
        "      - text: |\n",
        "          \\usepackage{amsmath}\n",
        "execute:\n",
        "    echo: false\n",
        "    warning: false\n",
        "---"
      ],
      "id": "b9bc25ad"
    },
    {
      "cell_type": "code",
      "metadata": {},
      "source": [
        "import pandas as pd\n",
        "import json\n",
        "import numpy as np\n",
        "from sklearn.preprocessing import MultiLabelBinarizer\n",
        "from sklearn.ensemble import RandomForestClassifier\n",
        "from sklearn.metrics import accuracy_score, classification_report\n",
        "from sklearn.model_selection import train_test_split\n",
        "from sklearn.model_selection import GridSearchCV\n",
        "from sklearn.decomposition import PCA\n",
        "import matplotlib.pyplot as plt\n",
        "from scipy.spatial.distance import cdist"
      ],
      "id": "31c2b776",
      "execution_count": null,
      "outputs": []
    },
    {
      "cell_type": "markdown",
      "metadata": {},
      "source": [
        "Data cleaning improvement: token-ize ingredients\n"
      ],
      "id": "4cd044c8"
    },
    {
      "cell_type": "code",
      "metadata": {},
      "source": [
        "def format_ingredient_data(df):\n",
        "    mlb = MultiLabelBinarizer()\n",
        "    X = pd.DataFrame(mlb.fit_transform(df[\"ingredients\"]), columns=mlb.classes_)\n",
        "    y = df[\"cuisine\"]\n",
        "    return X, y\n",
        "\n",
        "\n",
        "with open(\"data/yumly_train.json\", \"r\") as json_f:\n",
        "    df = pd.DataFrame(json.load(json_f))\n",
        "    X, y = format_ingredient_data(df)"
      ],
      "id": "5b349527",
      "execution_count": null,
      "outputs": []
    },
    {
      "cell_type": "code",
      "metadata": {},
      "source": [
        "# Drop columns in X which have a sum across all rows less than 10\n",
        "X = X.loc[:, (X.sum(axis=0) >= 10)]"
      ],
      "id": "f2111b32",
      "execution_count": null,
      "outputs": []
    },
    {
      "cell_type": "code",
      "metadata": {},
      "source": [
        "# Group X by cuisine and sum the value of each column\n",
        "ingredient_counts = X.groupby(y).sum()\n",
        "# Normalize the ingredient counts by dividing each value by the sum of the row\n",
        "ingredient_props = ingredient_counts.div(ingredient_counts.sum(axis=1), axis=0)\n",
        "\n",
        "def get_principle_components(X, explained_variance_perc = .95):\n",
        "  X_T = X.T\n",
        "  U, S, _ = np.linalg.svd(X_T)\n",
        "  n_components = np.argmax(np.cumsum(S / S.sum()) >= explained_variance_perc)\n",
        "  vectors = pd.DataFrame(index = X.index)\n",
        "  for i in range(n_components):\n",
        "    vectors[f'{i+1}'] = (U[:, i] @ X_T) / (S[i] ** .05)\n",
        "  return vectors\n",
        "\n",
        "principle_components = get_principle_components(ingredient_props)\n",
        "plt.figure(figsize=(10, 8))\n",
        "plt.scatter(principle_components['1'], principle_components['2'])\n",
        "\n",
        "for i, txt in enumerate(principle_components.index):\n",
        "  plt.annotate(txt, (principle_components['1'][i], principle_components['2'][i]))\n",
        "\n",
        "plt.xlabel('Component 1')\n",
        "plt.ylabel('Component 2')\n",
        "plt.title('PCA Scatter Plot of Ingredients by Cuisine')\n",
        "plt.show()"
      ],
      "id": "5264d047",
      "execution_count": null,
      "outputs": []
    },
    {
      "cell_type": "code",
      "metadata": {},
      "source": [
        "# Split the data into training and testing sets\n",
        "X_train, X_test, y_train, y_test = train_test_split(X, y, test_size=0.2, random_state=42)\n",
        "\n",
        "rf_model = RandomForestClassifier(n_estimators=100, max_features=10, n_jobs=8, min_samples_split=50, oob_score=True)\n",
        "rf_model.fit(X_train, y_train)\n",
        "\n",
        "# Predict on the test set\n",
        "y_pred = rf_model.predict(X_test)\n",
        "\n",
        "# Evaluate the model\n",
        "accuracy = accuracy_score(y_test, y_pred)\n",
        "report = classification_report(y_test, y_pred)\n",
        "\n",
        "print(f\"Accuracy: {accuracy}\")\n",
        "print(\"Classification Report:\")\n",
        "print(report)"
      ],
      "id": "fd88ef33",
      "execution_count": null,
      "outputs": []
    },
    {
      "cell_type": "code",
      "metadata": {},
      "source": [
        "# Perform feature selection using the trained RandomForest model\n",
        "feature_importances = rf_model.feature_importances_\n",
        "important_features = pd.Series(feature_importances, index=X_train.columns).sort_values(ascending=False)\n",
        "\n",
        "# Select features that capture the first 95% of explainability\n",
        "cumulative_importances = important_features.cumsum()\n",
        "features_95 = cumulative_importances[cumulative_importances <= 0.95].index\n",
        "\n",
        "# Remove any columns in X which are not in features_95\n",
        "X = X[features_95]\n",
        "\n",
        "# Redo the train test split\n",
        "X_train, X_test, y_train, y_test = train_test_split(X, y, test_size=0.2, random_state=42)"
      ],
      "id": "d630e846",
      "execution_count": null,
      "outputs": []
    },
    {
      "cell_type": "code",
      "metadata": {},
      "source": [
        "# retrain with thinner dataset\n",
        "rf_model = RandomForestClassifier(n_estimators=100, max_features=10, n_jobs=8, min_samples_split=50, oob_score=True)\n",
        "rf_model.fit(X_train, y_train)\n",
        "\n",
        "# Predict on the test set\n",
        "y_pred = rf_model.predict(X_test)\n",
        "\n",
        "# Evaluate the model\n",
        "accuracy = accuracy_score(y_test, y_pred)\n",
        "report = classification_report(y_test, y_pred)\n",
        "\n",
        "print(f\"Accuracy: {accuracy}\")\n",
        "print(\"Classification Report:\")\n",
        "print(report)"
      ],
      "id": "f073cdf8",
      "execution_count": null,
      "outputs": []
    },
    {
      "cell_type": "markdown",
      "metadata": {},
      "source": [
        "Let's optimize using oob_score\n"
      ],
      "id": "0786fc80"
    },
    {
      "cell_type": "code",
      "metadata": {},
      "source": [
        "with open(\"data/recipes_raw_nosource_epi.json\", \"r\") as json_f:\n",
        "    epicurious_df = pd.DataFrame(json.load(json_f)).T.reset_index(drop=True)\n",
        "\n",
        "with open(\"data/recipes_raw_nosource_fn.json\", \"r\") as json_f:\n",
        "    fn_df = pd.DataFrame(json.load(json_f)).T.reset_index(drop=True)\n",
        "    \n",
        "with open(\"data/recipes_raw_nosource_ar.json\", \"r\") as json_f:\n",
        "    ar_df = pd.DataFrame(json.load(json_f)).T.reset_index(drop=True)\n",
        "\n",
        "df = pd.concat([epicurious_df, fn_df, ar_df], ignore_index=True)\n",
        "df = df[[\"title\", \"instructions\", \"ingredients\"]]\n",
        "df = df.dropna().reset_index(drop = True)\n",
        "df[\"ingredients\"] = df[\"ingredients\"].apply(\n",
        "    lambda x: \" \".join(x) if isinstance(x, list) else x)\n",
        "\n",
        "n = len(features_95)\n",
        "m = len(df)\n",
        "recipe_ingredients = np.zeros((m, n))\n",
        "for i, feature in enumerate(features_95):\n",
        "  recipe_ingredients[:, i] = df[\"ingredients\"].apply(lambda x: 1 if feature in x else 0)\n",
        "\n",
        "recipe_ingredients = pd.DataFrame(recipe_ingredients, columns = features_95)"
      ],
      "id": "3ce1444d",
      "execution_count": null,
      "outputs": []
    },
    {
      "cell_type": "code",
      "metadata": {},
      "source": [
        "cuisine_probabilities = rf_model.predict_proba(recipe_ingredients)\n",
        "\n",
        "for i, cuisine in enumerate(rf_model.classes_):\n",
        "  df[f'prob_{cuisine}'] = cuisine_probabilities[:, i]\n",
        "\n",
        "df['predicted_cuisine'] = rf_model.predict(recipe_ingredients)\n",
        "df['predicted_cuisine_prob'] = np.max(cuisine_probabilities, axis=1)"
      ],
      "id": "36c3d905",
      "execution_count": null,
      "outputs": []
    },
    {
      "cell_type": "code",
      "metadata": {},
      "source": [
        "meal_plan = df.sample(n=1)\n",
        "\n",
        "meal_plan_ingredients = recipe_ingredients.loc[meal_plan.index]\n",
        "\n",
        "# TODO: Need to remove my existing meal plan recipes\n",
        "distances = cdist(meal_plan_ingredients, recipe_ingredients, metric='euclidean')\n",
        "\n",
        "# Find the closest recipes for each predicted cuisine\n",
        "closest_indices = []\n",
        "for cuisine in rf_model.classes_:\n",
        "  cuisine_indices = df[df['predicted_cuisine'] == cuisine].index\n",
        "  cuisine_distances = distances[0][cuisine_indices]\n",
        "  closest_cuisine_indices = cuisine_indices[np.argsort(cuisine_distances)[:5]]  # Get the 5 closest recipes for each cuisine\n",
        "  closest_indices.extend(closest_cuisine_indices)\n",
        "\n",
        "# Get the closest recipes\n",
        "closest_recipes = df.iloc[closest_indices]\n",
        "\n",
        "print(\"Closest Recipes:\")\n",
        "print(closest_recipes[[\"title\", \"predicted_cuisine\", \"predicted_cuisine_prob\"]])"
      ],
      "id": "4caff892",
      "execution_count": null,
      "outputs": []
    },
    {
      "cell_type": "markdown",
      "metadata": {},
      "source": [
        "Outputs needed:\n",
        "  - Model\n",
        "  - List of features it needs\n",
        "\n",
        "Code I can write from that\n",
        "  - Given a recipe from the other dataset, do feature of extraction\n",
        "  - Predict cuisine\n"
      ],
      "id": "183175f1"
    }
  ],
  "metadata": {
    "kernelspec": {
      "name": "python3",
      "language": "python",
      "display_name": "Python 3 (ipykernel)"
    }
  },
  "nbformat": 4,
  "nbformat_minor": 5
}